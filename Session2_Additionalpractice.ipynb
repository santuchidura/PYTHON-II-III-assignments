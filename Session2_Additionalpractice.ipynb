{
 "cells": [
  {
   "cell_type": "code",
   "execution_count": 1,
   "metadata": {},
   "outputs": [
    {
     "name": "stdout",
     "output_type": "stream",
     "text": [
      "acadgildacadgildacadgildacadgildacadgild\n"
     ]
    }
   ],
   "source": [
    "\"\"\"\n",
    "1) The function \"echo_name\" takes 2 parameters: a string value, \"name1\"and\n",
    "an integer value, \"echo_int\". It returns a string that is a concatenation of\n",
    "\"echo_int\" copies of \"name1\".\n",
    "Your task is to convert this simple function into a lambda function.\n",
    "Instructions:\n",
    "Define the lambda function \"echo_name\" using the variables \"name1\" and \"\n",
    "echo_int\". Replicate what the original function definition for \"echo_nam\n",
    "e ()\" does above.\n",
    "Call \"echo_name ()\" with the string argument 'acadgild' and the value 5,\n",
    "in that order. Assign the call to result\n",
    "Expected Output\n",
    "acadgildacadgildacadgildacadgildacadgild\n",
    "\"\"\"\n",
    "\n",
    "# Define a lambda function: echo_name\n",
    "echo_name = (lambda string,n:string*n)\n",
    "# Call echo_name with parameters (\"acadgild\",5)\n",
    "result = echo_name (\"acadgild\",5)\n",
    "# Print result\n",
    "print(result)"
   ]
  },
  {
   "cell_type": "code",
   "execution_count": 2,
   "metadata": {},
   "outputs": [
    {
     "name": "stdout",
     "output_type": "stream",
     "text": [
      "[120.56, 79.7, 117.14, 118.03999999999999]\n"
     ]
    }
   ],
   "source": [
    "\"\"\"\n",
    "2) Convert temperature in Celsius to Fahrenheit using map() and lambda\n",
    "functions\n",
    "Sample input\n",
    "Celsius = [49.2, 26.5, 47.3, 47.8]\n",
    "Expected Output\n",
    "[120.56, 79.7, 117.14, 118.03999999999999]\n",
    "\"\"\"\n",
    "\n",
    "Celsius = [49.2, 26.5, 47.3, 47.8]\n",
    "#use map() and lambda,convert to Fahrenheit\n",
    "#map(function,list)\n",
    "Fahrenheit = list(map(lambda x: (9.0/5)*x  + 32,Celsius))\n",
    "#print Fahrenheit\n",
    "print(Fahrenheit)"
   ]
  },
  {
   "cell_type": "code",
   "execution_count": 3,
   "metadata": {},
   "outputs": [
    {
     "name": "stdout",
     "output_type": "stream",
     "text": [
      "Print only vowels in a given string 'Welcome to AcadGild' using custom filter function['e', 'o', 'e', 'o', 'A', 'a', 'i']\n",
      "Print only vowels in a given string 'Welcome to AcadGild' using custom Lamda function['e', 'o', 'e', 'o', 'A', 'a', 'i']\n"
     ]
    }
   ],
   "source": [
    "\"\"\"\n",
    "3) The function filter(function, list) filters out all the elements of a list, for\n",
    "which the function function returns True.\n",
    "The function filter(f,l) needs a function f as its first argument. f re\n",
    "turns a Boolean value, i.e. either True or False. This function will be\n",
    "applied to every element of the list l. Only if f returns True will the\n",
    "element of the list be included in the result list\n",
    "Q. print the letters that are vowels using filter and lambda functions\n",
    "sample_string = \"Welcome to AcadGild\"\n",
    "Expected Output\n",
    "[e,o,e,0,A,a,i]\n",
    "\"\"\"\n",
    "\n",
    "vowels = \"aeiouAEIOU\"\n",
    "instring=\"Welcome to AcadGild\"\n",
    "# Filter function returns Boolean value True or false- Custom filter function\n",
    "\n",
    "def myfilter(func, lst):\n",
    "\n",
    " # Initialize empty list\n",
    " result = []\n",
    " # iterate over sequence of items in sequence and apply filter function\n",
    " for char in lst:\n",
    "    if func(char):\n",
    "        result.append(char)\n",
    "\n",
    " # return funal output\n",
    " return result\n",
    "\n",
    "def isVowel(x):\n",
    "    if (x in vowels): \n",
    "        return True \n",
    "    else: \n",
    "        return False\n",
    "\n",
    "print (\"Print only vowels in a given string 'Welcome to AcadGild' using custom filter function\"  + str(myfilter(isVowel, \"Welcome to AcadGild\")))\n",
    "print(\"Print only vowels in a given string 'Welcome to AcadGild' using custom Lamda function\" + str(list(filter(lambda x:x in \"aeiouAEIOU\", instring))))"
   ]
  },
  {
   "cell_type": "code",
   "execution_count": 4,
   "metadata": {},
   "outputs": [
    {
     "name": "stdout",
     "output_type": "stream",
     "text": [
      "['W', 'e', 'l', 'c', 'o', 'm', 'e', 't', 'o', 'a', 'c', 'a', 'd', 'G', 'i', 'l', 'd']\n"
     ]
    }
   ],
   "source": [
    "\"\"\"\n",
    "4) Use generator expression to print out only alphabets from the following\n",
    "string\n",
    "string = \"123@Welc34ometo12@ac#adGild\"\n",
    "output= \"WelcometoacadGild\"\n",
    "\"\"\"\n",
    "string = \"123@Welc34ometo12@ac#adGild\"\n",
    "print(list(x for x in string if x in (y for y in \"abcdefghijklmnopqrstuvwABCDEFGHIJKLMNOPQRSTUVWXYZ\")))"
   ]
  },
  {
   "cell_type": "code",
   "execution_count": 5,
   "metadata": {},
   "outputs": [
    {
     "name": "stdout",
     "output_type": "stream",
     "text": [
      "['Feburary']\n"
     ]
    }
   ],
   "source": [
    "\"\"\"\n",
    "5) Implement a function longestWord() that takes a list of words and returns\n",
    "the longest one.\n",
    "Sample Word List\n",
    "word= [\"January\",\"Feburary\",\"March\",\"April\",\"May\",\"June\",\"July\"]\n",
    "Expected Output\n",
    "['Feburary']\n",
    "\"\"\"\n",
    "\n",
    "# Initialize the list\n",
    "word= [\"January\",\"Feburary\",\"March\",\"April\",\"May\",\"June\",\"July\"]\n",
    "#define function named longestWord with one parameter (arg_word)\n",
    "def longestWord(arg_word):\n",
    "    #use len(max()) to apply the logic\n",
    "    max_len = len(max(arg_word,key=len))\n",
    "    # iterate over the list arg_word and check which word has length = max_len and print\n",
    "    return [x for x in arg_word if len(x) == max_len]\n",
    "    #function call : longestWord and pass the list \"word\" as the parameter\n",
    "print(longestWord(word))"
   ]
  },
  {
   "cell_type": "code",
   "execution_count": null,
   "metadata": {},
   "outputs": [],
   "source": []
  }
 ],
 "metadata": {
  "kernelspec": {
   "display_name": "Python 3",
   "language": "python",
   "name": "python3"
  },
  "language_info": {
   "codemirror_mode": {
    "name": "ipython",
    "version": 3
   },
   "file_extension": ".py",
   "mimetype": "text/x-python",
   "name": "python",
   "nbconvert_exporter": "python",
   "pygments_lexer": "ipython3",
   "version": "3.7.0"
  }
 },
 "nbformat": 4,
 "nbformat_minor": 2
}
