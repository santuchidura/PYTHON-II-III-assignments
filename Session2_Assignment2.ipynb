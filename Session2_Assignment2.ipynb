{
 "cells": [
  {
   "cell_type": "code",
   "execution_count": 1,
   "metadata": {},
   "outputs": [
    {
     "name": "stdout",
     "output_type": "stream",
     "text": [
      "Sum on list [1,2,3] using custom reduce function 6\n",
      "Multiplication on list [4,5,6] using custom reduce function 120\n",
      "find largest number on list [1,2,3,5 7 8 12] using custom reduce function 12\n"
     ]
    }
   ],
   "source": [
    "\"\"\"\n",
    "1.1 Write a Python Program to implement your own myreduce() function which works exactly\n",
    "like Python's built-in function reduce()\n",
    "\"\"\"\n",
    "# Reduce function will produce a single result\n",
    "def myreduce(func, sequence):\n",
    "\n",
    " # Get first item in sequence and assign to result\n",
    "  result = sequence[0]\n",
    " # iterate over remaining items in sequence and apply reduction function \n",
    "  for item in sequence[1:]:\n",
    "   result = func(result, item)\n",
    "\n",
    "  return result\n",
    "\n",
    "# test myreduce function for addition, multiplication and largest number in a list\n",
    "def Add(x,y): return x + y\n",
    "def Mul(a,b): return a*b\n",
    "def Largest(n1,n2):\n",
    "    if n1>n2:\n",
    "        return n1\n",
    "    else:\n",
    "        return n2\n",
    "\n",
    "print (\"Sum on list [1,2,3] using custom reduce function \"   + str(myreduce(Add, [1,2,3])) )\n",
    "print (\"Multiplication on list [4,5,6] using custom reduce function \"   + str(myreduce(Mul, [4,5,6])) )\n",
    "print (\"find largest number on list [1,2,3,5 7 8 12] using custom reduce function \"   + str(myreduce(Largest, [1,2,3,5,7,8,12])) )"
   ]
  },
  {
   "cell_type": "code",
   "execution_count": 2,
   "metadata": {},
   "outputs": [
    {
     "name": "stdout",
     "output_type": "stream",
     "text": [
      "Filter only positive Integers on list [0,1,-2,3,4,5] using custom filter function[1, 3, 4, 5]\n",
      "Filter only Prime numbers on list [2,8,13,19,25,262] using custom filter function[2, 13, 19]\n"
     ]
    }
   ],
   "source": [
    "\"\"\"\n",
    "1.2 Write a Python program to implement your own myfilter() function which works exactly like\n",
    "Python's built-in function filter()\n",
    "\"\"\"\n",
    "\n",
    "# Filter function returns Boolean value True or false- Custom filter function\n",
    "def myfilter(func, sequence):\n",
    "\n",
    " # Initialize empty list\n",
    " result = []\n",
    " # iterate over sequence of items in sequence and apply filter function\n",
    " for item in sequence:\n",
    "    if func(item):\n",
    "        result.append(item)\n",
    "\n",
    " # return funal output\n",
    " return result\n",
    "\n",
    "## Verifying given number in a list is positive or not if its positive send True if not False\n",
    "def ispositive(x):\n",
    "    if (x <= 0): \n",
    "        return False \n",
    "    else: \n",
    "        return True\n",
    "def isprime (n1):\n",
    "    Res= 0\n",
    "    i=1\n",
    "    while i<=n1 and Res <=2:\n",
    "        if n1%i==0:\n",
    "            Res = Res+1\n",
    "        i=i+1\n",
    "    if Res <= 2:\n",
    "        return True\n",
    "    else:\n",
    "        return False\n",
    "    \n",
    "print (\"Filter only positive Integers on list [0,1,-2,3,4,5] using custom filter function\"  + str(myfilter(ispositive, [0,1,-2,3,4,5])))\n",
    "print (\"Filter only Prime numbers on list [2,8,13,19,25,262] using custom filter function\"  + str(myfilter(isprime, [2,8,13,19,25,262])))"
   ]
  },
  {
   "cell_type": "code",
   "execution_count": 3,
   "metadata": {},
   "outputs": [
    {
     "name": "stdout",
     "output_type": "stream",
     "text": [
      "['A', 'C', 'A', 'D', 'G', 'I', 'L', 'D']\n",
      "['x', 'xx', 'xxx', 'xxxx', 'y', 'yy', 'yyy', 'yyyy', 'z', 'zz', 'zzz', 'zzzz']\n",
      "['x', 'y', 'z', 'xx', 'yy', 'zz', 'xxx', 'yyy', 'zzz', 'xxxx', 'yyyy', 'zzzz']\n",
      "[[2], [3], [4], [3], [4], [5], [4], [5], [6]]\n",
      "[[2, 3, 4, 5], [3, 4, 5, 6], [4, 5, 6, 7], [5, 6, 7, 8]]\n",
      "[(1, 1), (2, 1), (3, 1), (1, 2), (2, 2), (3, 2), (1, 3), (2, 3), (3, 3)]\n"
     ]
    }
   ],
   "source": [
    "\"\"\"\n",
    "2. Implement List comprehensions to produce the following lists.\n",
    "Write List comprehensions to produce the following Lists\n",
    "['A', 'C', 'A', 'D', 'G', 'I', ’L’, ‘ D’]\n",
    "['x', 'xx', 'xxx', 'xxxx', 'y', 'yy', 'yyy', 'yyyy', 'z', 'zz', 'zzz', 'zzzz']\n",
    "['x', 'y', 'z', 'xx', 'yy', 'zz', 'xxx', 'yyy', 'zzz', 'xxxx', 'yyyy', 'zzzz']\n",
    "[[2], [3], [4], [3], [4], [5], [4], [5], [6]]\n",
    "[[2, 3, 4, 5], [3, 4, 5, 6], [4, 5, 6, 7], [5, 6, 7, 8]]\n",
    "[(1, 1), (2, 1), (3, 1), (1, 2), (2, 2), (3, 2), (1, 3), (2, 3), (3, 3)]\n",
    "\"\"\"\n",
    "#################################['A', 'C', 'A', 'D', 'G', 'I', ’L’, ‘ D’]\n",
    "L1 = [let for let in 'ACADGILD']\n",
    "print(L1)\n",
    "################################# input list for below 2 scenarios\n",
    "lst_ip = ['x','y','z']\n",
    "################################# ['x', 'xx', 'xxx', 'xxxx', 'y', 'yy', 'yyy', 'yyyy', 'z', 'zz', 'zzz', 'zzzz']\n",
    "L2=[]\n",
    "for a in lst_ip:\n",
    "    for n in range(1,5):\n",
    "        le=a*n\n",
    "        L2.append(le)\n",
    "print(L2)\n",
    "################################# ['x', 'y', 'z', 'xx', 'yy', 'zz', 'xxx', 'yyy', 'zzz', 'xxxx', 'yyyy', 'zzzz']\n",
    "L3=[]\n",
    "for n in range(1,5):\n",
    "    for a in lst_ip:\n",
    "        le=a*n\n",
    "        L3.append(le)\n",
    "print(L3)\n",
    "#################################[[2], [3], [4], [3], [4], [5], [4], [5], [6]]\n",
    "L4=[]\n",
    "n=2\n",
    "for i in range(4,7):\n",
    "    for j in range (n,i+1):\n",
    "        lst=[j]\n",
    "        L4.append(lst)\n",
    "    n=n+1\n",
    "print(L4)\n",
    "#################################[[2, 3, 4, 5], [3, 4, 5, 6], [4, 5, 6, 7], [5, 6, 7, 8]]\n",
    "L5=[]\n",
    "n=2\n",
    "for i in range(5,9):\n",
    "    lst=[]\n",
    "    for j in range (n,i+1):\n",
    "        lst.append(j)\n",
    "    n=n+1\n",
    "    L5.append(lst)\n",
    "print(L5)\n",
    "#################################[(1, 1), (2, 1), (3, 1), (1, 2), (2, 2), (3, 2), (1, 3), (2, 3), (3, 3)]\n",
    "L6 = []\n",
    "x=1\n",
    "y=1\n",
    "for x in range(1,4):\n",
    "     for y in range(1,4):\n",
    "        Tup1 = (y, x)\n",
    "        L6.append(Tup1)\n",
    "print(L6)"
   ]
  },
  {
   "cell_type": "code",
   "execution_count": 5,
   "metadata": {},
   "outputs": [
    {
     "name": "stdout",
     "output_type": "stream",
     "text": [
      "Enter the input words: smallword longestword toolongestword\n",
      "Longest word in given input is: toolongestword\t and its length is :14\n"
     ]
    }
   ],
   "source": [
    "\"\"\"\n",
    "3. Implement a function longestWord() that takes a list of words and returns the longest one.\n",
    "\n",
    "\"\"\"\n",
    "def longest_word(Wlst):\n",
    "    word_len = []\n",
    "    for n in Wlst:\n",
    "        word_len.append((len(n), n))\n",
    "    word_len.sort()\n",
    "    return word_len[-1][1]\n",
    "\n",
    "Words =input(\"Enter the input words: \")\n",
    "# split th estring into the individual elements and assign to list\n",
    "WLst_in = Words.split(\" \")\n",
    "Lword=longest_word(WLst_in)\n",
    " \n",
    "print(\"Longest word in given input is: \" + Lword + \"\\t and its length is :\" + str(len(Lword)) )"
   ]
  },
  {
   "cell_type": "code",
   "execution_count": null,
   "metadata": {},
   "outputs": [],
   "source": []
  }
 ],
 "metadata": {
  "kernelspec": {
   "display_name": "Python 3",
   "language": "python",
   "name": "python3"
  },
  "language_info": {
   "codemirror_mode": {
    "name": "ipython",
    "version": 3
   },
   "file_extension": ".py",
   "mimetype": "text/x-python",
   "name": "python",
   "nbconvert_exporter": "python",
   "pygments_lexer": "ipython3",
   "version": "3.7.0"
  }
 },
 "nbformat": 4,
 "nbformat_minor": 2
}
