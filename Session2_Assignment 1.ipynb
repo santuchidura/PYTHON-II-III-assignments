{
 "cells": [
  {
   "cell_type": "code",
   "execution_count": 1,
   "metadata": {},
   "outputs": [
    {
     "name": "stdout",
     "output_type": "stream",
     "text": [
      "Enter List elements with comma separated values: 12,15,16,25,24,29,38\n",
      "['12', '15', '16', '25', '24', '29', '38']\n"
     ]
    }
   ],
   "source": [
    "\"\"\"\n",
    "1. Write a program which accepts a sequence of comma-separated numbers from console and\n",
    "generate a list.\n",
    "\"\"\"\n",
    "# initialize the String with the input values\n",
    "Numbers =input(\"Enter List elements with comma separated values: \")\n",
    "# split th estring into the individual elements and assign to list\n",
    "Lst_in = Numbers.split(\",\")\n",
    "# print list -- all th eelements treat as strinngs\n",
    "print (Lst_in)"
   ]
  },
  {
   "cell_type": "code",
   "execution_count": 2,
   "metadata": {},
   "outputs": [
    {
     "name": "stdout",
     "output_type": "stream",
     "text": [
      "Enter the maximum number of stars required: 6\n",
      "\n",
      "*  \n",
      "*  *  \n",
      "*  *  *  \n",
      "*  *  *  *  \n",
      "*  *  *  *  *  \n",
      "*  *  *  *  *  *  \n",
      "*  *  *  *  *  \n",
      "*  *  *  *  \n",
      "*  *  *  \n",
      "*  *  \n",
      "*  \n",
      "\n"
     ]
    }
   ],
   "source": [
    "\"\"\"\n",
    "Create the below pattern using nested for loop in Python.\n",
    "*\n",
    "* *\n",
    "* * *\n",
    "* * * *\n",
    "* * * * *\n",
    "* * * *\n",
    "* * *\n",
    "* *\n",
    "*\n",
    "\"\"\"\n",
    "# Initialize n to the maximum number of stars from input\n",
    "n=int(input(\"Enter the maximum number of stars required: \"))\n",
    "# Iterate over range(n)\n",
    "for i in range(n):\n",
    "#Iterate over range(i)\n",
    "    for j in range(i):\n",
    "    #print * , use end to get no white spaces in between the stars\n",
    "        print (\"* \",end=' ')\n",
    "    # carriage return to the next line for next iteration\n",
    "    print(\"\\r\")\n",
    "# Iterate over range(n) to 0 hence reduce by -1\n",
    "for i in range(n,0,-1):\n",
    "    #Iterate over range(i)\n",
    "    for j in range(i):\n",
    "        #print * , use end to get no white spaces in between the stars\n",
    "        print (\"* \",end=' ')\n",
    "    # carriage return to the next line for next iteration\n",
    "    print(\"\\r\")\n",
    "print('')"
   ]
  },
  {
   "cell_type": "code",
   "execution_count": 3,
   "metadata": {},
   "outputs": [
    {
     "name": "stdout",
     "output_type": "stream",
     "text": [
      "Enter a word to display in reverse order :AcadGild\n",
      "Reverse order of a given string is :\n",
      "dliGdacA\n",
      " Enter a word to display in reverse order :AcadGild\n"
     ]
    },
    {
     "data": {
      "text/plain": [
       "'dliGdacA'"
      ]
     },
     "execution_count": 3,
     "metadata": {},
     "output_type": "execute_result"
    }
   ],
   "source": [
    "\"\"\"\n",
    "Write a Python program to reverse a word after accepting the input from the user.\n",
    "Sample Output:\n",
    "Input word: AcadGild\n",
    "Output: dilGdacA \n",
    "\"\"\"\n",
    "##### Method 1 using For loop\n",
    "Wrd_In =input(\"Enter a word to display in reverse order :\")\n",
    "n=len(Wrd_In)\n",
    "print (\"Reverse order of a given string is :\")\n",
    "for i in range(n,0,-1):\n",
    "    print (Wrd_In[i-1],end='')\n",
    "\n",
    "#### Method 2 Using inbuilt method\n",
    "Wrd_In2 =input(\"\\n Enter a word to display in reverse order :\")\n",
    "Wrd_In2[::-1]"
   ]
  },
  {
   "cell_type": "code",
   "execution_count": 4,
   "metadata": {},
   "outputs": [
    {
     "name": "stdout",
     "output_type": "stream",
     "text": [
      "WE, THE PEOPLE OF INDIA,\n",
      "\thaving solemnly resolved to constitute India into a SOVEREIGN, !\n",
      "\t\tSOCIALIST, SECULAR, DEMOCRATIC REPUBLIC\n",
      "\t\tand to secure to all its citizens\n"
     ]
    }
   ],
   "source": [
    "\"\"\"\n",
    "4. Write a Python Program to print the given string in the format specified in the sample\n",
    "output.\n",
    "WE, THE PEOPLE OF INDIA, having solemnly resolved to constitute India into a SOVEREIGN,\n",
    "SOCIALIST, SECULAR, DEMOCRATIC REPUBLIC and to secure to all its citizens\n",
    "Sample Output:\n",
    "WE, THE PEOPLE OF INDIA,\n",
    "    having solemnly resolved to constitute India into a SOVEREIGN, !\n",
    "        SOCIALIST, SECULAR, DEMOCRATIC REPUBLIC\n",
    "        and to secure to all its citizens\n",
    "\"\"\"\n",
    "\n",
    "print(\"WE, THE PEOPLE OF INDIA,\\n\\thaving solemnly resolved to constitute India into a SOVEREIGN, !\\n\\t\\tSOCIALIST, SECULAR, DEMOCRATIC REPUBLIC\\n\\t\\tand to secure to all its citizens\")"
   ]
  },
  {
   "cell_type": "code",
   "execution_count": null,
   "metadata": {},
   "outputs": [],
   "source": []
  }
 ],
 "metadata": {
  "kernelspec": {
   "display_name": "Python 3",
   "language": "python",
   "name": "python3"
  },
  "language_info": {
   "codemirror_mode": {
    "name": "ipython",
    "version": 3
   },
   "file_extension": ".py",
   "mimetype": "text/x-python",
   "name": "python",
   "nbconvert_exporter": "python",
   "pygments_lexer": "ipython3",
   "version": "3.7.0"
  }
 },
 "nbformat": 4,
 "nbformat_minor": 2
}
